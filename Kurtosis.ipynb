{
 "cells": [
  {
   "cell_type": "markdown",
   "metadata": {
    "slideshow": {
     "slide_type": "slide"
    }
   },
   "source": [
    "# Kurtosis"
   ]
  },
  {
   "cell_type": "markdown",
   "metadata": {
    "slideshow": {
     "slide_type": "slide"
    }
   },
   "source": [
    "# What is Kurtosis\n",
    "- A simple statistical test that helps us determine whether or not the tails of our distribution have extreme values (Corporate Finance Institute)."
   ]
  },
  {
   "cell_type": "markdown",
   "metadata": {
    "slideshow": {
     "slide_type": "slide"
    }
   },
   "source": [
    "## Why do we want to use it?\n",
    "- We want to use it in order to select which features the Isolation Forests should use from a high dimensional dataset.\n",
    "- It helps improve iForest's ability to handle high-dimensional data.\n",
    "- Since Kurtosis is sensitive to anomalies (Liu, Fei Tony, et al.), it would be a good attribute selector that will greatly improve the algorithm's performance and efficiency."
   ]
  },
  {
   "attachments": {
    "Screen%20Shot%202021-02-15%20at%206.50.31%20PM.png": {
     "image/png": "[encoded data removed]"
    }
   },
   "cell_type": "markdown",
   "metadata": {
    "slideshow": {
     "slide_type": "subslide"
    }
   },
   "source": [
    "## How it works\n",
    "Let's say that we have a set of feature values x1 to xN. \n",
    "\n",
    "First, we standardize them to z1 to zN with 0 mean and unit standard deviation:![Screen%20Shot%202021-02-15%20at%206.50.31%20PM.png](attachment:Screen%20Shot%202021-02-15%20at%206.50.31%20PM.png)"
   ]
  },
  {
   "attachments": {
    "Screen%20Shot%202021-02-15%20at%206.54.03%20PM.png": {
     "image/png": "[encoded data removed]"
    }
   },
   "cell_type": "markdown",
   "metadata": {
    "slideshow": {
     "slide_type": "subslide"
    }
   },
   "source": [
    "Then, we calculate the Kurtosis using the following formula:![Screen%20Shot%202021-02-15%20at%206.54.03%20PM.png](attachment:Screen%20Shot%202021-02-15%20at%206.54.03%20PM.png)"
   ]
  },
  {
   "cell_type": "markdown",
   "metadata": {
    "slideshow": {
     "slide_type": "subslide"
    }
   },
   "source": [
    "If a feature is non-uniform, then it will show high levels of Kurtosis.\n",
    "\n",
    "Based on the ranking of the Kurtosis measures, we should then select a subspace of attributes before constructing the iTrees that will make up the iForests."
   ]
  },
  {
   "cell_type": "markdown",
   "metadata": {
    "slideshow": {
     "slide_type": "slide"
    }
   },
   "source": [
    "# Work Cited\n",
    "Aggarwal, Charu C. “High-Dimensional Outlier Detection: The Subspace Method.” Outlier Analysis, 2016, pp. 149–184., \n",
    "    doi:10.1007/978-3-319-47578-3_5. \n",
    "    \n",
    "“Kurtosis - Definition, Excess Kurtosis, and Types of Kurtosis.” Corporate Finance Institute, 15 May 2020,\n",
    "    corporatefinanceinstitute.com/resources/knowledge/other/kurtosis/#:~:text=Kurtosis%20is%\n",
    "    <font color='blue'><u>20a%20statistical%20measure,given%20distribution%20contain%20extreme%20values</u></font>. \n",
    "    \n",
    "Liu, Fei Tony, et al. “Isolation-Based Anomaly Detection.” ACM Transactions on Knowledge Discovery from Data, vol. 6, \n",
    "    no. 1, Mar. 2012, pp. 1–39., doi:10.1145/2133360.2133363. "
   ]
  }
 ],
 "metadata": {
  "celltoolbar": "Slideshow",
  "kernelspec": {
   "display_name": "Python 3",
   "language": "python",
   "name": "python3"
  },
  "language_info": {
   "codemirror_mode": {
    "name": "ipython",
    "version": 3
   },
   "file_extension": ".py",
   "mimetype": "text/x-python",
   "name": "python",
   "nbconvert_exporter": "python",
   "pygments_lexer": "ipython3",
   "version": "3.8.5"
  }
 },
 "nbformat": 4,
 "nbformat_minor": 4
}
