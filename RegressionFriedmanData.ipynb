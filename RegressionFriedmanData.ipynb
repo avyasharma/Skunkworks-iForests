{
 "cells": [
  {
   "cell_type": "markdown",
   "metadata": {
    "slideshow": {
     "slide_type": "slide"
    }
   },
   "source": [
    "# Regression on Friedman Data"
   ]
  },
  {
   "cell_type": "code",
   "execution_count": 1,
   "metadata": {
    "slideshow": {
     "slide_type": "skip"
    }
   },
   "outputs": [],
   "source": [
    "from sklearn.ensemble import IsolationForest\n",
    "import pandas as pd\n",
    "import numpy as np\n",
    "from plotly.offline import download_plotlyjs, init_notebook_mode, plot, iplot\n",
    "import chart_studio.plotly as py\n",
    "import matplotlib.pyplot as plt\n",
    "from matplotlib import pyplot\n",
    "import plotly.graph_objs as go\n",
    "import warnings\n",
    "from scipy import stats\n",
    "from sklearn.datasets import make_friedman1\n",
    "from sklearn.model_selection import train_test_split\n",
    "from sklearn.ensemble import RandomForestRegressor\n",
    "from sklearn.metrics import r2_score,mean_squared_error\n",
    "import seaborn as sns\n",
    "import math\n",
    "import sklearn.gaussian_process as gp\n",
    "from sklearn.svm import SVR\n",
    "from sklearn.neural_network import MLPRegressor\n",
    "from sklearn.model_selection import train_test_split\n",
    "from sklearn.datasets import fetch_california_housing\n",
    "from sklearn.preprocessing import StandardScaler\n",
    "from sklearn.metrics import r2_score"
   ]
  },
  {
   "cell_type": "code",
   "execution_count": 2,
   "metadata": {
    "slideshow": {
     "slide_type": "skip"
    }
   },
   "outputs": [],
   "source": [
    "# function that accepts n by 5 matrix of inputs and computes friedman output for all n rows of inputs\n",
    "\n",
    "def make_friedman(X):\n",
    "    n = len(X[:,0])\n",
    "    toReturn = np.zeros((n, 1))\n",
    "    \n",
    "    for i in range(0, n):\n",
    "        toReturn[i, 0] += 10 * math.sin(math.pi * X[i,0] * X[i,1]) + 20 * (X[i,2] - 0.5) ** 2 + 10 * X[i,3] + 5 * X[i,4]\n",
    "    \n",
    "    return toReturn"
   ]
  },
  {
   "cell_type": "code",
   "execution_count": 3,
   "metadata": {
    "slideshow": {
     "slide_type": "slide"
    }
   },
   "outputs": [
    {
     "data": {
      "text/plain": [
       "array([[0.35680929, 0.81620163, 0.98047689, 0.84088021, 0.635122  ],\n",
       "       [0.21051139, 0.07630007, 0.33126067, 0.32723243, 0.55877422],\n",
       "       [0.18337613, 0.11182609, 0.1688338 , 0.2820492 , 0.33987094],\n",
       "       ...,\n",
       "       [0.10131272, 0.24813646, 0.39334723, 0.41538346, 0.30573371],\n",
       "       [0.23413541, 0.89204488, 0.1278217 , 0.84279465, 0.36568543],\n",
       "       [0.01168544, 0.21812812, 0.4627226 , 0.26562261, 0.55155462]])"
      ]
     },
     "execution_count": 3,
     "metadata": {},
     "output_type": "execute_result"
    }
   ],
   "source": [
    "# create training data - restrict x0 to 0.0 to 0.5\n",
    "\n",
    "x0 = np.random.uniform(0.0, 0.5, 1000)\n",
    "x1 = np.random.uniform(0.0, 1.0, 1000)\n",
    "x2 = np.random.uniform(0.0, 1.0, 1000)\n",
    "x3 = np.random.uniform(0.0, 1.0, 1000)\n",
    "x4 = np.random.uniform(0.0, 1.0, 1000)\n",
    "\n",
    "x_train = [x0, x1, x2, x3, x4]\n",
    "x_train = np.transpose(x_train)\n",
    "\n",
    "y_train = make_friedman(x_train)\n",
    "\n",
    "x_train"
   ]
  },
  {
   "cell_type": "code",
   "execution_count": 4,
   "metadata": {
    "slideshow": {
     "slide_type": "slide"
    }
   },
   "outputs": [
    {
     "data": {
      "text/plain": [
       "array([[0.82917831, 0.63794681, 0.19706139, 0.03654425, 0.60044076],\n",
       "       [0.54705393, 0.55345232, 0.99216565, 0.41283255, 0.34212711],\n",
       "       [0.83085405, 0.04183026, 0.08188682, 0.97472818, 0.18437896],\n",
       "       ...,\n",
       "       [0.99081762, 0.70614616, 0.83853906, 0.3101949 , 0.97401982],\n",
       "       [0.6552142 , 0.83183145, 0.78520989, 0.50393883, 0.44391691],\n",
       "       [0.68501379, 0.50893665, 0.9899373 , 0.89776693, 0.22054401]])"
      ]
     },
     "execution_count": 4,
     "metadata": {},
     "output_type": "execute_result"
    }
   ],
   "source": [
    "# create testing data - restrict x0 to 0.5 to 1.0\n",
    "\n",
    "x0 = np.random.uniform(0.5, 1.0, 1000)\n",
    "x1 = np.random.uniform(0.0, 1.0, 1000)\n",
    "x2 = np.random.uniform(0.0, 1.0, 1000)\n",
    "x3 = np.random.uniform(0.0, 1.0, 1000)\n",
    "x4 = np.random.uniform(0.0, 1.0, 1000)\n",
    "\n",
    "x_test = [x0, x1, x2, x3, x4]\n",
    "x_test = np.transpose(x_test)\n",
    "\n",
    "df_test = pd.DataFrame(x_test, columns = ['x0','x1','x2','x3','x4'])\n",
    "\n",
    "x_test"
   ]
  },
  {
   "cell_type": "code",
   "execution_count": 5,
   "metadata": {
    "slideshow": {
     "slide_type": "skip"
    }
   },
   "outputs": [
    {
     "data": {
      "text/plain": [
       "SVR()"
      ]
     },
     "execution_count": 5,
     "metadata": {},
     "output_type": "execute_result"
    }
   ],
   "source": [
    "# train Support Vector Regression model to predict output with inputs\n",
    "\n",
    "SVR_model = SVR(kernel='rbf')\n",
    "SVR_model.fit(x_train,y_train.ravel())"
   ]
  },
  {
   "cell_type": "code",
   "execution_count": 6,
   "metadata": {
    "slideshow": {
     "slide_type": "skip"
    }
   },
   "outputs": [
    {
     "data": {
      "text/plain": [
       "MLPRegressor(hidden_layer_sizes=(64, 64, 64), max_iter=2000, random_state=1)"
      ]
     },
     "execution_count": 6,
     "metadata": {},
     "output_type": "execute_result"
    }
   ],
   "source": [
    "# train MLP model to predict output with inputs\n",
    "\n",
    "MLP_model = MLPRegressor(hidden_layer_sizes=(64,64,64),activation=\"relu\" ,random_state=1, max_iter=2000)\n",
    "MLP_model.fit(x_train, y_train.ravel())"
   ]
  },
  {
   "cell_type": "code",
   "execution_count": 7,
   "metadata": {
    "slideshow": {
     "slide_type": "skip"
    }
   },
   "outputs": [
    {
     "data": {
      "text/plain": [
       "GaussianProcessRegressor(alpha=0.1, kernel=1**2 * RBF(length_scale=10),\n",
       "                         n_restarts_optimizer=10, normalize_y=True)"
      ]
     },
     "execution_count": 7,
     "metadata": {},
     "output_type": "execute_result"
    }
   ],
   "source": [
    "# train Gaussian Process Regressor model to predict output with inputs\n",
    "\n",
    "kernel = gp.kernels.ConstantKernel(1.0, (1e-1, 1e3)) * gp.kernels.RBF(10.0, (1e-3, 1e3))\n",
    "GPR_model = gp.GaussianProcessRegressor(kernel=kernel, n_restarts_optimizer=10, alpha=0.1, normalize_y=True)\n",
    "GPR_model.fit(x_train, y_train)"
   ]
  },
  {
   "cell_type": "code",
   "execution_count": 8,
   "metadata": {
    "slideshow": {
     "slide_type": "skip"
    }
   },
   "outputs": [
    {
     "data": {
      "text/plain": [
       "RandomForestRegressor(n_estimators=500)"
      ]
     },
     "execution_count": 8,
     "metadata": {},
     "output_type": "execute_result"
    }
   ],
   "source": [
    "# train RF model to predict output with inputs\n",
    "\n",
    "RF_model = RandomForestRegressor(n_estimators = 500)\n",
    "RF_model.fit(x_train,y_train.ravel())"
   ]
  },
  {
   "cell_type": "code",
   "execution_count": 9,
   "metadata": {
    "slideshow": {
     "slide_type": "slide"
    }
   },
   "outputs": [
    {
     "name": "stdout",
     "output_type": "stream",
     "text": [
      "SVR model root mean squared error: 2.28576805289214\n",
      "MLP model root mean squared error: 3.321749909137672\n",
      "GPR model root mean squared error: 3.854105023178912\n",
      "RF model root mean squared error: 2.6949087267028005\n"
     ]
    }
   ],
   "source": [
    "# predict using models and and evalute prediction using root mean squared error\n",
    "\n",
    "SVR_rmse = np.sqrt(mean_squared_error(make_friedman(x_test), SVR_model.predict(x_test)))\n",
    "print(\"SVR model root mean squared error: \" + str(SVR_rmse))\n",
    "\n",
    "MLP_rmse = np.sqrt(mean_squared_error(make_friedman(x_test), MLP_model.predict(x_test)))\n",
    "print(\"MLP model root mean squared error: \" + str(MLP_rmse))\n",
    "\n",
    "GPR_rmse = np.sqrt(mean_squared_error(make_friedman(x_test), GPR_model.predict(x_test)))\n",
    "print(\"GPR model root mean squared error: \" + str(GPR_rmse))\n",
    "\n",
    "RF_rmse = np.sqrt(mean_squared_error(make_friedman(x_test), RF_model.predict(x_test)))\n",
    "print(\"RF model root mean squared error: \" + str(RF_rmse))"
   ]
  },
  {
   "cell_type": "markdown",
   "metadata": {
    "slideshow": {
     "slide_type": "skip"
    }
   },
   "source": [
    "## Resources Used\n",
    "* https://arxiv.org/pdf/1610.02995.pdf"
   ]
  }
 ],
 "metadata": {
  "celltoolbar": "Slideshow",
  "kernelspec": {
   "display_name": "Python 3",
   "language": "python",
   "name": "python3"
  },
  "language_info": {
   "codemirror_mode": {
    "name": "ipython",
    "version": 3
   },
   "file_extension": ".py",
   "mimetype": "text/x-python",
   "name": "python",
   "nbconvert_exporter": "python",
   "pygments_lexer": "ipython3",
   "version": "3.8.5"
  }
 },
 "nbformat": 4,
 "nbformat_minor": 4
}
