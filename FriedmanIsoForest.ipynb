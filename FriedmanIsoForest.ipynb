{
  "nbformat": 4,
  "nbformat_minor": 0,
  "metadata": {
    "colab": {
      "name": "FriedmanIsoForest.ipynb",
      "provenance": [],
      "include_colab_link": true
    },
    "kernelspec": {
      "display_name": "Python 3",
      "language": "python",
      "name": "python3"
    },
    "language_info": {
      "codemirror_mode": {
        "name": "ipython",
        "version": 3
      },
      "file_extension": ".py",
      "mimetype": "text/x-python",
      "name": "python",
      "nbconvert_exporter": "python",
      "pygments_lexer": "ipython3",
      "version": "3.8.5"
    },
    "widgets": {
      "application/vnd.jupyter.widget-state+json": {
        "021ecbba408e4b3199185d0c24792e0d": {
          "model_module": "@jupyter-widgets/controls",
          "model_name": "VBoxModel",
          "state": {
            "_view_name": "VBoxView",
            "_dom_classes": [
              "widget-interact"
            ],
            "_model_name": "VBoxModel",
            "_view_module": "@jupyter-widgets/controls",
            "_model_module_version": "1.5.0",
            "_view_count": null,
            "_view_module_version": "1.5.0",
            "box_style": "",
            "layout": "IPY_MODEL_96b0154caddb4e61b6e5b0c0012e4301",
            "_model_module": "@jupyter-widgets/controls",
            "children": [
              "IPY_MODEL_bd83e1d3774b4bc78125c0eac6dec420",
              "IPY_MODEL_7b419d66b0934d159f84174d5b8b4093",
              "IPY_MODEL_9685b844c0604f958e2a6c393db4d658"
            ]
          }
        },
        "96b0154caddb4e61b6e5b0c0012e4301": {
          "model_module": "@jupyter-widgets/base",
          "model_name": "LayoutModel",
          "state": {
            "_view_name": "LayoutView",
            "grid_template_rows": null,
            "right": null,
            "justify_content": null,
            "_view_module": "@jupyter-widgets/base",
            "overflow": null,
            "_model_module_version": "1.2.0",
            "_view_count": null,
            "flex_flow": null,
            "width": null,
            "min_width": null,
            "border": null,
            "align_items": null,
            "bottom": null,
            "_model_module": "@jupyter-widgets/base",
            "top": null,
            "grid_column": null,
            "overflow_y": null,
            "overflow_x": null,
            "grid_auto_flow": null,
            "grid_area": null,
            "grid_template_columns": null,
            "flex": null,
            "_model_name": "LayoutModel",
            "justify_items": null,
            "grid_row": null,
            "max_height": null,
            "align_content": null,
            "visibility": null,
            "align_self": null,
            "height": null,
            "min_height": null,
            "padding": null,
            "grid_auto_rows": null,
            "grid_gap": null,
            "max_width": null,
            "order": null,
            "_view_module_version": "1.2.0",
            "grid_template_areas": null,
            "object_position": null,
            "object_fit": null,
            "grid_auto_columns": null,
            "margin": null,
            "display": null,
            "left": null
          }
        },
        "bd83e1d3774b4bc78125c0eac6dec420": {
          "model_module": "@jupyter-widgets/controls",
          "model_name": "FloatSliderModel",
          "state": {
            "_view_name": "FloatSliderView",
            "style": "IPY_MODEL_647e2cdedacc46789333bfef7ffa5402",
            "_dom_classes": [],
            "description": "y2 mean shift",
            "step": 1,
            "_model_name": "FloatSliderModel",
            "orientation": "horizontal",
            "max": 100,
            "_view_module": "@jupyter-widgets/controls",
            "_model_module_version": "1.5.0",
            "value": 15,
            "_view_count": null,
            "disabled": false,
            "_view_module_version": "1.5.0",
            "min": -100,
            "continuous_update": false,
            "readout_format": ".0f",
            "description_tooltip": null,
            "readout": true,
            "_model_module": "@jupyter-widgets/controls",
            "layout": "IPY_MODEL_cbb6096473564c02b93d26638474af96"
          }
        },
        "7b419d66b0934d159f84174d5b8b4093": {
          "model_module": "@jupyter-widgets/controls",
          "model_name": "FloatSliderModel",
          "state": {
            "_view_name": "FloatSliderView",
            "style": "IPY_MODEL_30fb2fc834254b61952a474198289ba4",
            "_dom_classes": [],
            "description": "y2 noise",
            "step": 1,
            "_model_name": "FloatSliderModel",
            "orientation": "horizontal",
            "max": 100,
            "_view_module": "@jupyter-widgets/controls",
            "_model_module_version": "1.5.0",
            "value": 46,
            "_view_count": null,
            "disabled": false,
            "_view_module_version": "1.5.0",
            "min": 0,
            "continuous_update": false,
            "readout_format": ".0f",
            "description_tooltip": null,
            "readout": true,
            "_model_module": "@jupyter-widgets/controls",
            "layout": "IPY_MODEL_118ffb6d09804cad823d767ba8757b57"
          }
        },
        "9685b844c0604f958e2a6c393db4d658": {
          "model_module": "@jupyter-widgets/output",
          "model_name": "OutputModel",
          "state": {
            "_view_name": "OutputView",
            "msg_id": "",
            "_dom_classes": [],
            "_model_name": "OutputModel",
            "outputs": [
              {
                "output_type": "display_data",
                "metadata": {
                  "tags": []
                },
                "image/png": "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\n",
                "text/plain": "<Figure size 720x288 with 1 Axes>"
              }
            ],
            "_view_module": "@jupyter-widgets/output",
            "_model_module_version": "1.0.0",
            "_view_count": null,
            "_view_module_version": "1.0.0",
            "layout": "IPY_MODEL_e803644b74554c49a04a31f41b3a8716",
            "_model_module": "@jupyter-widgets/output"
          }
        },
        "647e2cdedacc46789333bfef7ffa5402": {
          "model_module": "@jupyter-widgets/controls",
          "model_name": "SliderStyleModel",
          "state": {
            "_view_name": "StyleView",
            "handle_color": null,
            "_model_name": "SliderStyleModel",
            "description_width": "",
            "_view_module": "@jupyter-widgets/base",
            "_model_module_version": "1.5.0",
            "_view_count": null,
            "_view_module_version": "1.2.0",
            "_model_module": "@jupyter-widgets/controls"
          }
        },
        "cbb6096473564c02b93d26638474af96": {
          "model_module": "@jupyter-widgets/base",
          "model_name": "LayoutModel",
          "state": {
            "_view_name": "LayoutView",
            "grid_template_rows": null,
            "right": null,
            "justify_content": null,
            "_view_module": "@jupyter-widgets/base",
            "overflow": null,
            "_model_module_version": "1.2.0",
            "_view_count": null,
            "flex_flow": null,
            "width": null,
            "min_width": null,
            "border": null,
            "align_items": null,
            "bottom": null,
            "_model_module": "@jupyter-widgets/base",
            "top": null,
            "grid_column": null,
            "overflow_y": null,
            "overflow_x": null,
            "grid_auto_flow": null,
            "grid_area": null,
            "grid_template_columns": null,
            "flex": null,
            "_model_name": "LayoutModel",
            "justify_items": null,
            "grid_row": null,
            "max_height": null,
            "align_content": null,
            "visibility": null,
            "align_self": null,
            "height": null,
            "min_height": null,
            "padding": null,
            "grid_auto_rows": null,
            "grid_gap": null,
            "max_width": null,
            "order": null,
            "_view_module_version": "1.2.0",
            "grid_template_areas": null,
            "object_position": null,
            "object_fit": null,
            "grid_auto_columns": null,
            "margin": null,
            "display": null,
            "left": null
          }
        },
        "30fb2fc834254b61952a474198289ba4": {
          "model_module": "@jupyter-widgets/controls",
          "model_name": "SliderStyleModel",
          "state": {
            "_view_name": "StyleView",
            "handle_color": null,
            "_model_name": "SliderStyleModel",
            "description_width": "",
            "_view_module": "@jupyter-widgets/base",
            "_model_module_version": "1.5.0",
            "_view_count": null,
            "_view_module_version": "1.2.0",
            "_model_module": "@jupyter-widgets/controls"
          }
        },
        "118ffb6d09804cad823d767ba8757b57": {
          "model_module": "@jupyter-widgets/base",
          "model_name": "LayoutModel",
          "state": {
            "_view_name": "LayoutView",
            "grid_template_rows": null,
            "right": null,
            "justify_content": null,
            "_view_module": "@jupyter-widgets/base",
            "overflow": null,
            "_model_module_version": "1.2.0",
            "_view_count": null,
            "flex_flow": null,
            "width": null,
            "min_width": null,
            "border": null,
            "align_items": null,
            "bottom": null,
            "_model_module": "@jupyter-widgets/base",
            "top": null,
            "grid_column": null,
            "overflow_y": null,
            "overflow_x": null,
            "grid_auto_flow": null,
            "grid_area": null,
            "grid_template_columns": null,
            "flex": null,
            "_model_name": "LayoutModel",
            "justify_items": null,
            "grid_row": null,
            "max_height": null,
            "align_content": null,
            "visibility": null,
            "align_self": null,
            "height": null,
            "min_height": null,
            "padding": null,
            "grid_auto_rows": null,
            "grid_gap": null,
            "max_width": null,
            "order": null,
            "_view_module_version": "1.2.0",
            "grid_template_areas": null,
            "object_position": null,
            "object_fit": null,
            "grid_auto_columns": null,
            "margin": null,
            "display": null,
            "left": null
          }
        },
        "e803644b74554c49a04a31f41b3a8716": {
          "model_module": "@jupyter-widgets/base",
          "model_name": "LayoutModel",
          "state": {
            "_view_name": "LayoutView",
            "grid_template_rows": null,
            "right": null,
            "justify_content": null,
            "_view_module": "@jupyter-widgets/base",
            "overflow": null,
            "_model_module_version": "1.2.0",
            "_view_count": null,
            "flex_flow": null,
            "width": null,
            "min_width": null,
            "border": null,
            "align_items": null,
            "bottom": null,
            "_model_module": "@jupyter-widgets/base",
            "top": null,
            "grid_column": null,
            "overflow_y": null,
            "overflow_x": null,
            "grid_auto_flow": null,
            "grid_area": null,
            "grid_template_columns": null,
            "flex": null,
            "_model_name": "LayoutModel",
            "justify_items": null,
            "grid_row": null,
            "max_height": null,
            "align_content": null,
            "visibility": null,
            "align_self": null,
            "height": null,
            "min_height": null,
            "padding": null,
            "grid_auto_rows": null,
            "grid_gap": null,
            "max_width": null,
            "order": null,
            "_view_module_version": "1.2.0",
            "grid_template_areas": null,
            "object_position": null,
            "object_fit": null,
            "grid_auto_columns": null,
            "margin": null,
            "display": null,
            "left": null
          }
        }
      }
    }
  },
  "cells": [
    {
      "cell_type": "markdown",
      "metadata": {
        "id": "view-in-github",
        "colab_type": "text"
      },
      "source": [
        "<a href=\"https://colab.research.google.com/github/avyasharma/Skunkworks-iForests/blob/main/FriedmanIsoForest.ipynb\" target=\"_parent\"><img src=\"https://colab.research.google.com/assets/colab-badge.svg\" alt=\"Open In Colab\"/></a>"
      ]
    },
    {
      "cell_type": "code",
      "metadata": {
        "id": "meQr5PXyHv-1"
      },
      "source": [
        "from sklearn.datasets import make_friedman1\n",
        "from sklearn.ensemble import IsolationForest\n",
        "from sklearn.model_selection import train_test_split\n",
        "import pandas as pd\n",
        "from sklearn import model_selection \n",
        "import numpy as np\n",
        "import numpy.random as random\n",
        "import matplotlib.pyplot as plt\n",
        "from __future__ import print_function\n",
        "from ipywidgets import interact, interactive, fixed, interact_manual\n",
        "import ipywidgets as widgets\n",
        "from sklearn.metrics import make_scorer, recall_score"
      ],
      "execution_count": 17,
      "outputs": []
    },
    {
      "cell_type": "code",
      "metadata": {
        "id": "TfU1BnXbVojK"
      },
      "source": [
        "# Helper functions\n",
        "\n",
        "def add_y_as_feature(X,y):\n",
        "    X['y1']=y\n",
        "    return X\n",
        "\n",
        "def contaminate_df(df1, df2, percentage):\n",
        "    '''\n",
        "    Assumes :\n",
        "    - df1 and df2 have the same number of samples.\n",
        "    - df1 is the dataset you will train on\n",
        "    - df2 is the dataset with outliers\n",
        "    Parameters:\n",
        "    df1 (df) - dataframe to contaminate\n",
        "    df2 (df) - dataframe that is contaminated (has noise)\n",
        "    percentage (float) - Percentage in the form of a float (0,1) . It will add remove this percentage of rows from df1, and add this percentage of the contaminated rows from df2 into df1. \n",
        "    For example, if float = 0.05, it will remove the last 5% of the rows in df1, and add the first 5% of the rows from df2 into df1 and return that modified dataframe as the first dataframe.\n",
        "    The second dataframe that it returns are the samples from df2 that were not added to df1.\n",
        "    \n",
        "    Returns:\n",
        "    three dataframes:\n",
        "    - modified df1 with contaminated samples\n",
        "    - the samples from df2 that were not added to df1 (we will save this to use as a training set)\n",
        "    - the actual outcomes of modified df1\n",
        "    '''\n",
        "    assert(len(df1) == len(df2)), \"y1 needs to be the same length as y2\"\n",
        "    return df1[:int(len(df2)*(1-percentage))].append(df2[:int(len(df2)*percentage)]), pd.DataFrame([1]*int(len(y1)* (1 - percentage)) + [-1]*int(len(y1)*percentage), columns = [\"is_outlier\"]), df2[int(len(df2)*percentage):]\n"
      ],
      "execution_count": 2,
      "outputs": []
    },
    {
      "cell_type": "code",
      "metadata": {
        "id": "2qvzpeGsH3Xk"
      },
      "source": [
        "# Create synthetic dataset using make_friedman1. N = 100k\n",
        "\n",
        "X1, y1 = make_friedman1(\n",
        "    n_samples=1000, n_features = 5 , random_state=1)\n",
        "\n",
        "\n",
        "# Create another synthetic dataset with noise.\n",
        "X2, y2 = make_friedman1(\n",
        "    n_samples=1000, n_features = 5, random_state=1, noise=20,)\n",
        "\n",
        "y2 += 30\n",
        "\n",
        "# Convert from numpy arrays to pandas dataframes\n",
        "X1 = pd.DataFrame(X1, columns = [\"x1\", \"x2\", \"x3\", \"x4\", \"x5\"])\n",
        "y1 = pd.DataFrame(y1, columns = [\"y1\"])\n",
        "X2 = pd.DataFrame(X2, columns = [\"x1\", \"x2\", \"x3\", \"x4\", \"x5\"])\n",
        "y2 = pd.DataFrame(y2, columns = [\"y1\"])"
      ],
      "execution_count": 3,
      "outputs": []
    },
    {
      "cell_type": "code",
      "metadata": {
        "colab": {
          "base_uri": "https://localhost:8080/",
          "height": 349,
          "referenced_widgets": [
            "021ecbba408e4b3199185d0c24792e0d",
            "96b0154caddb4e61b6e5b0c0012e4301",
            "bd83e1d3774b4bc78125c0eac6dec420",
            "7b419d66b0934d159f84174d5b8b4093",
            "9685b844c0604f958e2a6c393db4d658",
            "647e2cdedacc46789333bfef7ffa5402",
            "cbb6096473564c02b93d26638474af96",
            "30fb2fc834254b61952a474198289ba4",
            "118ffb6d09804cad823d767ba8757b57",
            "e803644b74554c49a04a31f41b3a8716"
          ]
        },
        "id": "1cjeq8FCQ09E",
        "outputId": "040a45b3-9e27-41c8-fdf5-36f0ac143ba6"
      },
      "source": [
        "X1=False\n",
        "y1=False\n",
        "X2= False\n",
        "y2=False\n",
        "\n",
        "def f(y2_mean_slider,y2_noise):\n",
        "  global X1, y1, X2, y2\n",
        "  # Create synthetic dataset using make_friedman1. N = 100k\n",
        "  import matplotlib.pyplot as plt\n",
        "  fig, ax = plt.subplots(figsize=(10,4))\n",
        "  X1, y1 = make_friedman1(\n",
        "      n_samples=1000, n_features = 5 , random_state=1)\n",
        "\n",
        "\n",
        "  # Create another synthetic dataset with noise.\n",
        "  X2, y2 = make_friedman1(\n",
        "      n_samples=1000, n_features = 5, random_state=1, noise=y2_noise )\n",
        "\n",
        "  y2 += y2_mean_slider\n",
        "\n",
        "  # Convert from numpy arrays to pandas dataframes\n",
        "  X1 = pd.DataFrame(X1, columns = [\"x1\", \"x2\", \"x3\", \"x4\", \"x5\"])\n",
        "  y1 = pd.DataFrame(y1, columns = [\"y1\"])\n",
        "  X2 = pd.DataFrame(X2, columns = [\"x1\", \"x2\", \"x3\", \"x4\", \"x5\"])\n",
        "  y2 = pd.DataFrame(y2, columns = [\"y1\"])\n",
        "  import seaborn as sns\n",
        "  sns.set()\n",
        "  # n_bins = len(X)//100\n",
        "  # We can set the number of bins with the `bins` kwarg\n",
        "\n",
        "  sns.histplot(y1['y1'], bins = 'auto', stat='probability', color = 'blue', binwidth = 3, ax=ax)\n",
        "  sns.histplot(y2['y1'], bins = 'auto', stat='probability', color = 'orange', binwidth = 3, ax=ax);\n",
        "  \n",
        "y2_mean_slider = widgets.FloatSlider(\n",
        "    value=30,\n",
        "    min=-100,\n",
        "    max=100,\n",
        "    step=1,\n",
        "    description='y2 mean shift',\n",
        "    disabled=False,\n",
        "    continuous_update=False,\n",
        "    orientation='horizontal',\n",
        "    readout=True,\n",
        "    readout_format='.0f',\n",
        "  \n",
        ")\n",
        "\n",
        "\n",
        "y2_noise_slider = widgets.FloatSlider(\n",
        "    value=20,\n",
        "    min=0,\n",
        "    max=100,\n",
        "    step=1,\n",
        "    description='y2 noise',\n",
        "    disabled=False,\n",
        "    continuous_update=False,\n",
        "    orientation='horizontal',\n",
        "    readout=True,\n",
        "    readout_format='.0f',\n",
        "  \n",
        ")\n",
        "\n",
        "interact(f,y2_mean_slider=y2_mean_slider, y2_noise=y2_noise_slider);"
      ],
      "execution_count": 4,
      "outputs": [
        {
          "output_type": "display_data",
          "data": {
            "application/vnd.jupyter.widget-view+json": {
              "model_id": "021ecbba408e4b3199185d0c24792e0d",
              "version_minor": 0,
              "version_major": 2
            },
            "text/plain": [
              "interactive(children=(FloatSlider(value=30.0, continuous_update=False, description='y2 mean shift', min=-100.0…"
            ]
          },
          "metadata": {
            "tags": []
          }
        }
      ]
    },
    {
      "cell_type": "code",
      "metadata": {
        "id": "Xgxp5zqok-A0",
        "colab": {
          "base_uri": "https://localhost:8080/"
        },
        "outputId": "698640f8-7b20-4625-e5d4-59d38ca8e05b"
      },
      "source": [
        "# Since Isoforest is an unsupervised learning problem, we will need to add the y variable as a feature.\r\n",
        "\r\n",
        "df1 = add_y_as_feature(X1,y1)\r\n",
        "df2 = add_y_as_feature(X2,y2)\r\n",
        "df1.head(), df2.head()"
      ],
      "execution_count": 10,
      "outputs": [
        {
          "output_type": "execute_result",
          "data": {
            "text/plain": [
              "(         x1        x2        x3        x4        x5         y1\n",
              " 0  0.417022  0.720324  0.000114  0.302333  0.146756  16.852205\n",
              " 1  0.092339  0.186260  0.345561  0.396767  0.538817   7.678848\n",
              " 2  0.419195  0.685220  0.204452  0.878117  0.027388  18.513197\n",
              " 3  0.670468  0.417305  0.558690  0.140387  0.198101  10.164178\n",
              " 4  0.800745  0.968262  0.313424  0.692323  0.876389  18.487972,\n",
              "          x1        x2        x3        x4        x5         y1\n",
              " 0  0.417022  0.720324  0.000114  0.302333  0.146756  69.062363\n",
              " 1  0.092339  0.186260  0.345561  0.396767  0.538817  52.705935\n",
              " 2  0.419195  0.685220  0.204452  0.878117  0.027388  52.870540\n",
              " 3  0.670468  0.417305  0.558690  0.140387  0.198101  24.553838\n",
              " 4  0.800745  0.968262  0.313424  0.692323  0.876389  49.895130)"
            ]
          },
          "metadata": {
            "tags": []
          },
          "execution_count": 10
        }
      ]
    },
    {
      "cell_type": "code",
      "metadata": {
        "id": "5pmoCA3dlAtM"
      },
      "source": [
        "modified_df1,modified_df1_y, test_df2  = contaminate_df(df1, df2, 0.05)\r\n"
      ],
      "execution_count": 11,
      "outputs": []
    },
    {
      "cell_type": "code",
      "metadata": {
        "id": "UmUANzo2cCub"
      },
      "source": [
        ""
      ],
      "execution_count": null,
      "outputs": []
    },
    {
      "cell_type": "code",
      "metadata": {
        "id": "EU2NtzB-lD0N",
        "colab": {
          "base_uri": "https://localhost:8080/",
          "height": 587
        },
        "outputId": "2de5049f-b9b9-4d24-bbf3-d5be2969e50e"
      },
      "source": [
        "\r\n",
        "plt.xlabel('y-values of modified_df1 (contaminated df)')\r\n",
        "plt.ylabel('Probability')\r\n",
        "plt.hist(modified_df1['y1'], bins='auto', alpha=0.8, density = True, label='y1')\r\n",
        "plt.show()\r\n",
        "print(modified_df1_y[\"is_outlier\"].value_counts())\r\n",
        "plt.hist(test_df2['y1'], bins='auto', alpha=0.8, density = True, label='y1', color = 'orange')\r\n",
        "plt.show()\r\n"
      ],
      "execution_count": 12,
      "outputs": [
        {
          "output_type": "display_data",
          "data": {
            "image/png": "[encoded data removed]",
            "text/plain": [
              "<Figure size 432x288 with 1 Axes>"
            ]
          },
          "metadata": {
            "tags": []
          }
        },
        {
          "output_type": "stream",
          "text": [
            " 1    950\n",
            "-1     50\n",
            "Name: is_outlier, dtype: int64\n"
          ],
          "name": "stdout"
        },
        {
          "output_type": "display_data",
          "data": {
            "image/png": "[encoded data removed]",
            "text/plain": [
              "<Figure size 432x288 with 1 Axes>"
            ]
          },
          "metadata": {
            "tags": []
          }
        }
      ]
    },
    {
      "cell_type": "code",
      "metadata": {
        "id": "K4Z_-rotcHi5"
      },
      "source": [
        "X_train_modified, X_test_modified, y_train_modified, y_test_modified = train_test_split(modified_df1, modified_df1_y, test_size=0.2, random_state=11)"
      ],
      "execution_count": 15,
      "outputs": []
    },
    {
      "cell_type": "code",
      "metadata": {
        "id": "GiV6-VEvlGdD",
        "outputId": "b532ddab-be17-49ba-a0e1-d0b2b7031046",
        "colab": {
          "base_uri": "https://localhost:8080/"
        }
      },
      "source": [
        "import datetime\r\n",
        "start = datetime.datetime.now()\r\n",
        "scoring = {'AUC': 'roc_auc', 'Recall': make_scorer(recall_score, pos_label=-1)}\r\n",
        "\r\n",
        "clf = IsolationForest(random_state=47)\r\n",
        "\r\n",
        "param_grid = {'n_estimators': list(range(100, 200, 5)), \r\n",
        "              'max_samples': list(range(100, 400, 20)) + ['auto'],  \r\n",
        "              'max_features': list(range(4,7)), \r\n",
        "              'bootstrap': [True, False], \r\n",
        "              'n_jobs': [-1],'contamination' : [0.05]}\r\n",
        "\r\n",
        "\r\n",
        "grid_dt_estimator = model_selection.GridSearchCV(clf, \r\n",
        "                                                 param_grid,\r\n",
        "                                                 scoring=scoring,\r\n",
        "                                                 refit='Recall')\r\n",
        "\r\n",
        "grid_dt_estimator.fit(X_train_modified, y_train_modified)\r\n",
        "end = datetime.datetime.now()\r\n",
        "print(end-start)"
      ],
      "execution_count": 18,
      "outputs": [
        {
          "output_type": "stream",
          "text": [
            "1:09:49.533996\n"
          ],
          "name": "stdout"
        }
      ]
    },
    {
      "cell_type": "code",
      "metadata": {
        "id": "JwrFHCV1dODh",
        "outputId": "f698e7b2-f0e9-4d0f-a066-c5ccd8ec8350",
        "colab": {
          "base_uri": "https://localhost:8080/"
        }
      },
      "source": [
        "print(grid_dt_estimator.best_params_)\r\n",
        "print(grid_dt_estimator.best_score_)\r\n",
        "# Best params is {'bootstrap': False, 'max_features': 5, 'max_samples': 'auto', 'n_estimators': 195, 'n_jobs': -1}"
      ],
      "execution_count": 19,
      "outputs": [
        {
          "output_type": "stream",
          "text": [
            "{'bootstrap': True, 'contamination': 0.05, 'max_features': 4, 'max_samples': 120, 'n_estimators': 150, 'n_jobs': -1}\n",
            "0.6911616161616161\n"
          ],
          "name": "stdout"
        }
      ]
    },
    {
      "cell_type": "code",
      "metadata": {
        "id": "9A95uO5WdUsa"
      },
      "source": [
        "# Use best estimator\r\n",
        "clf = IsolationForest(**grid_dt_estimator.best_params_)\r\n",
        "clf.fit(X_train_modified, y_train_modified)\r\n",
        "y_pred_test  = clf.predict(X_test_modified)"
      ],
      "execution_count": 27,
      "outputs": []
    },
    {
      "cell_type": "code",
      "metadata": {
        "id": "IMIfEBn90Oll"
      },
      "source": [
        "results = grid_dt_estimator"
      ],
      "execution_count": 24,
      "outputs": []
    },
    {
      "cell_type": "code",
      "metadata": {
        "id": "OC5TBhXnlB3w",
        "outputId": "a38c4a86-6d76-438c-c193-bedaaa4385dc",
        "colab": {
          "base_uri": "https://localhost:8080/",
          "height": 581
        }
      },
      "source": [
        "\r\n",
        "plt.figure(figsize=(10,8))\r\n",
        "plt.title(\"GridSearchCV for IF\", fontsize=24)\r\n",
        "\r\n",
        "plt.xlabel(\"n_estimators\")\r\n",
        "plt.ylabel(\"AUC\")\r\n",
        "plt.grid()\r\n",
        "x_min=100\r\n",
        "x_max=205\r\n",
        "y_min = 0.6\r\n",
        "y_max = 1.0\r\n",
        "ax = plt.axes()\r\n",
        "ax.set_xlim(x_min, x_max)\r\n",
        "ax.set_ylim(y_min, y_max)\r\n",
        "# for n_est,auc in zip(results.cv_results_['param_n_estimators'],results.cv_results_['mean_test_AUC']):\r\n",
        "#     print(n_est,auc)\r\n",
        "ax.scatter(list(results.cv_results_['param_n_estimators']),list(results.cv_results_['mean_test_AUC']), color = 'red');\r\n",
        "# plt.xlabel('y-values of modified_df1 (contaminated df)')\r\n",
        "# plt.ylabel('Probability')\r\n",
        "# plt.hist(modified_df1['y1'], bins='auto', alpha=0.8, density = True, label='y1')\r\n",
        "# plt.show()\r\n",
        "# print(modified_df1_y[\"is_outlier\"].value_counts())\r\n",
        "# plt.hist(test_df2['y1'], bins='auto', alpha=0.8, density = True, label='y1')\r\n",
        "# plt.show()\r\n"
      ],
      "execution_count": 25,
      "outputs": [
        {
          "output_type": "stream",
          "text": [
            "/usr/local/lib/python3.6/dist-packages/ipykernel_launcher.py:12: MatplotlibDeprecationWarning: Adding an axes using the same arguments as a previous axes currently reuses the earlier instance.  In a future version, a new instance will always be created and returned.  Meanwhile, this warning can be suppressed, and the future behavior ensured, by passing a unique label to each axes instance.\n",
            "  if sys.path[0] == '':\n"
          ],
          "name": "stderr"
        },
        {
          "output_type": "display_data",
          "data": {
            "image/png": "[encoded data removed]",
            "text/plain": [
              "<Figure size 720x576 with 1 Axes>"
            ]
          },
          "metadata": {
            "tags": []
          }
        }
      ]
    },
    {
      "cell_type": "markdown",
      "metadata": {
        "id": "JVwIhEswYuAt"
      },
      "source": [
        ""
      ]
    },
    {
      "cell_type": "code",
      "metadata": {
        "colab": {
          "base_uri": "https://localhost:8080/"
        },
        "id": "eUZt0XzTohPR",
        "outputId": "81fec6d2-9d32-4a5b-a2d7-ed9c4bd3e15b"
      },
      "source": [
        "pd.DataFrame(y_pred_test).value_counts()"
      ],
      "execution_count": 30,
      "outputs": [
        {
          "output_type": "execute_result",
          "data": {
            "text/plain": [
              " 1    188\n",
              "-1     12\n",
              "dtype: int64"
            ]
          },
          "metadata": {
            "tags": []
          },
          "execution_count": 30
        }
      ]
    },
    {
      "cell_type": "markdown",
      "metadata": {
        "id": "LKts_XV_TsdU"
      },
      "source": [
        "y(X) = 10 * sin(pi * X[:, 0] * X[:, 1]) + 20 * (X[:, 2] - 0.5) ** 2 + 10 * X[:, 3] + 5 * X[:, 4] + noise * N(0, 1)."
      ]
    },
    {
      "cell_type": "markdown",
      "metadata": {
        "id": "kECZLKCWeXYp"
      },
      "source": [
        "##Everything below is experimental:"
      ]
    },
    {
      "cell_type": "code",
      "metadata": {
        "id": "iysXz1olVWD5"
      },
      "source": [
        "# Increasing features from 5->50? Only first 5 variables are correlated, so what if we add more independent variables. Would that change our predictions?\n",
        "for i in range (5,10):\n",
        "  X, y = make_friedman1(\n",
        "    n_samples=100000, n_features = i,  noise=0.1, random_state=1)\n",
        "  X_train, X_test, y_train, y_test = train_test_split( X, y, test_size=0.1, random_state=42)\n",
        "  clf = IsolationForest(max_samples='auto', contamination = 0)\n",
        "  clf.fit(X_train)\n",
        "  y_pred_test = clf.predict(X_test)\n",
        "  print(i, pd.DataFrame(y_pred_test).value_counts())"
      ],
      "execution_count": null,
      "outputs": []
    },
    {
      "cell_type": "code",
      "metadata": {
        "id": "WQOZRpSuQlb9"
      },
      "source": [
        "# Doesn't look like it!"
      ],
      "execution_count": null,
      "outputs": []
    }
  ]
}