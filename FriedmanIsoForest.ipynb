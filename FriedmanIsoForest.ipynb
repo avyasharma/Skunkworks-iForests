{
 "cells": [
  {
   "cell_type": "markdown",
   "metadata": {
    "colab_type": "text",
    "id": "view-in-github"
   },
   "source": [
    "<a href=\"https://colab.research.google.com/github/angelotc/FriedmanIsolationForest/blob/main/FriedmanIsoForest.ipynb\" target=\"_parent\"><img src=\"https://colab.research.google.com/assets/colab-badge.svg\" alt=\"Open In Colab\"/></a>"
   ]
  },
  {
   "cell_type": "code",
   "execution_count": 54,
   "metadata": {
    "id": "meQr5PXyHv-1"
   },
   "outputs": [],
   "source": [
    "from sklearn.datasets import make_friedman1\n",
    "from sklearn.ensemble import IsolationForest\n",
    "from sklearn.model_selection import train_test_split\n",
    "import pandas as pd\n",
    "from sklearn import model_selection \n",
    "import numpy as np\n",
    "import numpy.random as random\n",
    "import matplotlib.pyplot as plt\n"
   ]
  },
  {
   "cell_type": "code",
   "execution_count": 93,
   "metadata": {
    "id": "TfU1BnXbVojK"
   },
   "outputs": [],
   "source": [
    "# Helper functions\n",
    "\n",
    "def add_y_as_feature(X,y):\n",
    "  y = np.reshape(y,(len(y),1))\n",
    "  return np.concatenate((X,y), axis=1)\n",
    "\n",
    "def contaminate_y(y1, y2, percentage):\n",
    "    '''\n",
    "    Parameters:\n",
    "    y1 - y dataframe to contaminate\n",
    "    y2 - y dataframe that is contaminated\n",
    "    percentage - takes a float value as a percentage. It will add this percentage of the contaminated rows into y1. \n",
    "    Returns:\n",
    "    y1 + percentage of the contaminated rows in y2\n",
    "    '''\n",
    "    return y1[:int(len(y1)*(1-percentage))].append(y2[:int(len(y2)*percentage)])\n",
    "def copy_and_add_noise_rows(df,):\n",
    "  pass"
   ]
  },
  {
   "cell_type": "code",
   "execution_count": 71,
   "metadata": {
    "colab": {
     "base_uri": "https://localhost:8080/"
    },
    "id": "2qvzpeGsH3Xk",
    "outputId": "832c760c-cd39-49c7-d397-8cfec3b08be3"
   },
   "outputs": [],
   "source": [
    "# Create synthetic dataset using make_friedman1. N = 100k\n",
    "\n",
    "X1, y1 = make_friedman1(\n",
    "    n_samples=1000, n_features = 5 , random_state=1)\n",
    "\n",
    "\n",
    "# Create another synthetic dataset with noise.\n",
    "X2, y2 = make_friedman1(\n",
    "    n_samples=1000, n_features = 5, random_state=1, noise=20,)\n",
    "\n",
    "y2 += 30\n",
    "\n",
    "x_cols = [\"x1\", \"x2\", \"x3\", \"x4\", \"x5\"]"
   ]
  },
  {
   "cell_type": "code",
   "execution_count": 72,
   "metadata": {},
   "outputs": [
    {
     "data": {
      "text/plain": [
       "(         x1        x2        x3        x4        x5\n",
       " 0  0.417022  0.720324  0.000114  0.302333  0.146756\n",
       " 1  0.092339  0.186260  0.345561  0.396767  0.538817\n",
       " 2  0.419195  0.685220  0.204452  0.878117  0.027388\n",
       " 3  0.670468  0.417305  0.558690  0.140387  0.198101\n",
       " 4  0.800745  0.968262  0.313424  0.692323  0.876389,\n",
       "          x1        x2        x3        x4        x5\n",
       " 0  0.417022  0.720324  0.000114  0.302333  0.146756\n",
       " 1  0.092339  0.186260  0.345561  0.396767  0.538817\n",
       " 2  0.419195  0.685220  0.204452  0.878117  0.027388\n",
       " 3  0.670468  0.417305  0.558690  0.140387  0.198101\n",
       " 4  0.800745  0.968262  0.313424  0.692323  0.876389,\n",
       "           y1\n",
       " 0  16.852205\n",
       " 1   7.678848\n",
       " 2  18.513197\n",
       " 3  10.164178\n",
       " 4  18.487972,\n",
       "           y1\n",
       " 0  69.062363\n",
       " 1  52.705935\n",
       " 2  52.870540\n",
       " 3  24.553838\n",
       " 4  49.895130)"
      ]
     },
     "execution_count": 72,
     "metadata": {},
     "output_type": "execute_result"
    }
   ],
   "source": [
    "X1 = pd.DataFrame(X1, columns = [\"x1\", \"x2\", \"x3\", \"x4\", \"x5\"])\n",
    "y1 = pd.DataFrame(y1, columns = [\"y1\"])\n",
    "X2 = pd.DataFrame(X2, columns = [\"x1\", \"x2\", \"x3\", \"x4\", \"x5\"])\n",
    "y2 = pd.DataFrame(y2, columns = [\"y1\"])\n",
    "\n",
    "X1.head(),X2.head(),y1.head(),y2.head()"
   ]
  },
  {
   "cell_type": "code",
   "execution_count": 74,
   "metadata": {
    "colab": {
     "base_uri": "https://localhost:8080/",
     "height": 279
    },
    "id": "1cjeq8FCQ09E",
    "outputId": "23eb7eef-0e9d-43bd-8f11-d0757c6d49e5"
   },
   "outputs": [
    {
     "data": {
      "image/png": "[encoded data removed]",
      "text/plain": [
       "<Figure size 432x288 with 1 Axes>"
      ]
     },
     "metadata": {
      "needs_background": "light"
     },
     "output_type": "display_data"
    }
   ],
   "source": [
    "from matplotlib import pyplot as plt\n",
    "n_bins = len(X)//100\n",
    "# We can set the number of bins with the `bins` kwarg\n",
    "\n",
    "plt.xlabel('y')\n",
    "plt.ylabel('Probability')\n",
    "\n",
    "# bins = compute_histogram_bins(y1, 1.0)\n",
    "plt.hist(y1, bins='auto', alpha=0.7, density = True, label='y1')\n",
    "plt.hist(y2, bins='auto', alpha=0.4, density = True, label='y2')\n",
    "plt.legend(loc='upper right')\n",
    "plt.show()\n"
   ]
  },
  {
   "cell_type": "code",
   "execution_count": 97,
   "metadata": {},
   "outputs": [],
   "source": [
    "def contaminate_y(y1, y2, percentage):\n",
    "    '''\n",
    "    Parameters:\n",
    "    y1 (df) - y dataframe to contaminate\n",
    "    y2  (df) - y dataframe that is contaminated (has noise)\n",
    "    percentage (float) - Takes a float value (0,1) as a percentage. It will add remove this percentage of rows from y1, and add this percentage of the contaminated rows from y2 into y1. \n",
    "    For example, it will take out 5 of the rows out of x1\n",
    "    \n",
    "    Returns:\n",
    "    y1 + percentage of the contaminated rows in y2 (df)\n",
    "    '''\n",
    "    return y1[:int(len(y1)*(1-percentage))].append(y2[:int(len(y2)*percentage)])\n",
    "\n",
    "y1 = contaminate_y(y1,y2,0.05)"
   ]
  },
  {
   "cell_type": "code",
   "execution_count": 98,
   "metadata": {
    "id": "_osHKLTKH_JH"
   },
   "outputs": [],
   "source": [
    "# Instantiate model -> fit -> predict using test set.\n",
    "# Note on contamination parameter: This is a parameter that the algorithm is quite sensitive to; it refers to the expected \n",
    "# proportion of outliers in the data set. This is used when fitting to define the threshold on the scores of the samples.\n",
    "\n",
    "clf = IsolationForest(max_samples=0.5, contamination = 0.05, bootstrap = False )\n",
    "clf.fit(y1)\n",
    "y_pred_test = clf.predict(y2)"
   ]
  },
  {
   "cell_type": "code",
   "execution_count": 99,
   "metadata": {
    "colab": {
     "base_uri": "https://localhost:8080/"
    },
    "id": "eUZt0XzTohPR",
    "outputId": "af4ce880-5551-4c8c-b703-1a169de71123"
   },
   "outputs": [
    {
     "data": {
      "text/plain": [
       "-1    867\n",
       " 1    133\n",
       "dtype: int64"
      ]
     },
     "execution_count": 99,
     "metadata": {},
     "output_type": "execute_result"
    }
   ],
   "source": [
    "pd.DataFrame(y_pred_test).value_counts()"
   ]
  },
  {
   "cell_type": "markdown",
   "metadata": {
    "id": "QkCt7Hs0TsjE"
   },
   "source": [
    "The above says that only 2 of the 10k test set samples are found as outliers. Of course, these 2 are false-positives, since they are  generated by the formula of Friedman formula:\n"
   ]
  },
  {
   "cell_type": "markdown",
   "metadata": {
    "id": "LKts_XV_TsdU"
   },
   "source": [
    "y(X) = 10 * sin(pi * X[:, 0] * X[:, 1]) + 20 * (X[:, 2] - 0.5) ** 2 + 10 * X[:, 3] + 5 * X[:, 4] + noise * N(0, 1)."
   ]
  },
  {
   "cell_type": "markdown",
   "metadata": {
    "id": "kECZLKCWeXYp"
   },
   "source": [
    "##Everything below is experimental:"
   ]
  },
  {
   "cell_type": "code",
   "execution_count": null,
   "metadata": {
    "id": "iysXz1olVWD5"
   },
   "outputs": [],
   "source": [
    "# Increasing features from 5->50? Only first 5 variables are correlated, so what if we add more independent variables. Would that change our predictions?\n",
    "for i in range (5,10):\n",
    "  X, y = make_friedman1(\n",
    "    n_samples=100000, n_features = i,  noise=0.1, random_state=1)\n",
    "  X_train, X_test, y_train, y_test = train_test_split( X, y, test_size=0.1, random_state=42)\n",
    "  clf = IsolationForest(max_samples='auto', contamination = 0)\n",
    "  clf.fit(X_train)\n",
    "  y_pred_test = clf.predict(X_test)\n",
    "  print(i, pd.DataFrame(y_pred_test).value_counts())"
   ]
  },
  {
   "cell_type": "code",
   "execution_count": null,
   "metadata": {
    "id": "WQOZRpSuQlb9"
   },
   "outputs": [],
   "source": [
    "# Doesn't look like it!"
   ]
  }
 ],
 "metadata": {
  "colab": {
   "include_colab_link": true,
   "name": "FriedmanIsoForest.ipynb",
   "provenance": []
  },
  "kernelspec": {
   "display_name": "Python 3",
   "language": "python",
   "name": "python3"
  },
  "language_info": {
   "codemirror_mode": {
    "name": "ipython",
    "version": 3
   },
   "file_extension": ".py",
   "mimetype": "text/x-python",
   "name": "python",
   "nbconvert_exporter": "python",
   "pygments_lexer": "ipython3",
   "version": "3.8.5"
  }
 },
 "nbformat": 4,
 "nbformat_minor": 4
}
