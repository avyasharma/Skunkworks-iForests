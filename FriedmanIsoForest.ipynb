{
 "cells": [
  {
   "cell_type": "markdown",
   "metadata": {
    "colab_type": "text",
    "id": "view-in-github"
   },
   "source": [
    "<a href=\"https://colab.research.google.com/github/angelotc/FriedmanIsolationForest/blob/main/FriedmanIsoForest.ipynb\" target=\"_parent\"><img src=\"https://colab.research.google.com/assets/colab-badge.svg\" alt=\"Open In Colab\"/></a>"
   ]
  },
  {
   "cell_type": "code",
   "execution_count": 54,
   "metadata": {
    "id": "meQr5PXyHv-1"
   },
   "outputs": [],
   "source": [
    "from sklearn.datasets import make_friedman1\n",
    "from sklearn.ensemble import IsolationForest\n",
    "from sklearn.model_selection import train_test_split\n",
    "import pandas as pd\n",
    "from sklearn import model_selection \n",
    "import numpy as np\n",
    "import numpy.random as random\n",
    "import matplotlib.pyplot as plt\n"
   ]
  },
  {
   "cell_type": "code",
   "execution_count": 152,
   "metadata": {
    "id": "TfU1BnXbVojK"
   },
   "outputs": [],
   "source": [
    "# Helper functions\n",
    "\n",
    "def add_y_as_feature(X,y):\n",
    "    X['y1']=y\n",
    "    return X\n",
    "\n",
    "def contaminate_df(df1, df2, percentage):\n",
    "    '''\n",
    "    Assumes df1 and df2 have the same number of samples.\n",
    "    Parameters:\n",
    "    df1 (df) - dataframe to contaminate\n",
    "    df2  (df) - dataframe that is contaminated (has noise)\n",
    "    percentage (float) - Percentage in the form of a float (0,1) . It will add remove this percentage of rows from df1, and add this percentage of the contaminated rows from df2 into df1. \n",
    "    For example, if float = 0.05, it will remove the last 5% of the rows in df1, and add the first 5% of the rows from df2 into df1 and return that modified dataframe as the first dataframe.\n",
    "    The second dataframe that it returns are the samples from df2 that were not added to df1.\n",
    "    \n",
    "    Returns:\n",
    "    two dataframes:\n",
    "    - modified df1 with contaminated samples\n",
    "    - the samples from df2 that were not added to df1 (we will save this to use as a training set)\n",
    "    '''\n",
    "    assert(len(y1) == len(y2)), \"y1 needs to be the same length as y2\"\n",
    "    return y1[:int(len(y1)*(1-percentage))].append(y2[:int(len(y2)*percentage)]), y2[int(len(y2)*percentage):]\n"
   ]
  },
  {
   "cell_type": "code",
   "execution_count": 153,
   "metadata": {
    "colab": {
     "base_uri": "https://localhost:8080/"
    },
    "id": "2qvzpeGsH3Xk",
    "outputId": "832c760c-cd39-49c7-d397-8cfec3b08be3"
   },
   "outputs": [],
   "source": [
    "# Create synthetic dataset using make_friedman1. N = 100k\n",
    "\n",
    "X1, y1 = make_friedman1(\n",
    "    n_samples=10000, n_features = 5 , random_state=1)\n",
    "\n",
    "\n",
    "# Create another synthetic dataset with noise.\n",
    "X2, y2 = make_friedman1(\n",
    "    n_samples=10000, n_features = 5, random_state=1, noise=20)\n",
    "\n",
    "y2 += 30\n",
    "\n",
    "x_cols = [\"x1\", \"x2\", \"x3\", \"x4\", \"x5\"]"
   ]
  },
  {
   "cell_type": "code",
   "execution_count": 159,
   "metadata": {},
   "outputs": [],
   "source": [
    "# Convert from numpy arrays to pandas dataframes\n",
    "X1 = pd.DataFrame(X1, columns = [\"x1\", \"x2\", \"x3\", \"x4\", \"x5\"])\n",
    "y1 = pd.DataFrame(y1, columns = [\"y1\"])\n",
    "X2 = pd.DataFrame(X2, columns = [\"x1\", \"x2\", \"x3\", \"x4\", \"x5\"])\n",
    "y2 = pd.DataFrame(y2, columns = [\"y1\"])"
   ]
  },
  {
   "cell_type": "code",
   "execution_count": 160,
   "metadata": {
    "colab": {
     "base_uri": "https://localhost:8080/",
     "height": 279
    },
    "id": "1cjeq8FCQ09E",
    "outputId": "23eb7eef-0e9d-43bd-8f11-d0757c6d49e5"
   },
   "outputs": [
    {
     "data": {
      "image/png": "[encoded data removed]",
      "text/plain": [
       "<Figure size 432x288 with 1 Axes>"
      ]
     },
     "metadata": {
      "needs_background": "light"
     },
     "output_type": "display_data"
    }
   ],
   "source": [
    "from matplotlib import pyplot as plt\n",
    "# n_bins = len(X)//100\n",
    "# We can set the number of bins with the `bins` kwarg\n",
    "\n",
    "plt.xlabel('y')\n",
    "plt.ylabel('Probability')\n",
    "\n",
    "# bins = compute_histogram_bins(y1, 1.0)\n",
    "plt.hist(y1, bins='auto', alpha=0.8, density = True, label='y1')\n",
    "plt.hist(y2, bins='auto', alpha=0.5, density = True, label='y2')\n",
    "plt.legend(loc='upper right')\n",
    "plt.show()\n"
   ]
  },
  {
   "cell_type": "code",
   "execution_count": 156,
   "metadata": {},
   "outputs": [],
   "source": [
    "# df1 = add_y_as_feature(X1,y1)\n",
    "# df2 = add_y_as_feature(X2,y2)\n",
    "# df1.head(), df2.head()"
   ]
  },
  {
   "cell_type": "code",
   "execution_count": 161,
   "metadata": {},
   "outputs": [],
   "source": [
    "modified_y1, test_y2 = contaminate_y(df1, df2, 0.05)"
   ]
  },
  {
   "cell_type": "code",
   "execution_count": 162,
   "metadata": {
    "id": "_osHKLTKH_JH"
   },
   "outputs": [],
   "source": [
    "# Instantiate model -> fit -> predict using test set.\n",
    "# Note on contamination parameter: This is a parameter that the algorithm is quite sensitive to; it refers to the expected \n",
    "# proportion of outliers in the data set. This is used when fitting to define the threshold on the scores of the samples.\n",
    "\n",
    "clf = IsolationForest(max_samples=0.5, contamination = 0.05, bootstrap = False )\n",
    "clf.fit(y1)\n",
    "y_pred_test = pd.DataFrame(clf.predict(test_y2))"
   ]
  },
  {
   "cell_type": "code",
   "execution_count": 163,
   "metadata": {
    "colab": {
     "base_uri": "https://localhost:8080/"
    },
    "id": "eUZt0XzTohPR",
    "outputId": "af4ce880-5551-4c8c-b703-1a169de71123"
   },
   "outputs": [
    {
     "data": {
      "text/plain": [
       "-1    8284\n",
       " 1    1216\n",
       "dtype: int64"
      ]
     },
     "execution_count": 163,
     "metadata": {},
     "output_type": "execute_result"
    }
   ],
   "source": [
    "y_pred_test.value_counts()"
   ]
  },
  {
   "cell_type": "markdown",
   "metadata": {
    "id": "LKts_XV_TsdU"
   },
   "source": [
    "y(X) = 10 * sin(pi * X[:, 0] * X[:, 1]) + 20 * (X[:, 2] - 0.5) ** 2 + 10 * X[:, 3] + 5 * X[:, 4] + noise * N(0, 1)."
   ]
  },
  {
   "cell_type": "markdown",
   "metadata": {
    "id": "kECZLKCWeXYp"
   },
   "source": [
    "##Everything below is experimental:"
   ]
  },
  {
   "cell_type": "code",
   "execution_count": null,
   "metadata": {
    "id": "iysXz1olVWD5"
   },
   "outputs": [],
   "source": [
    "# Increasing features from 5->50? Only first 5 variables are correlated, so what if we add more independent variables. Would that change our predictions?\n",
    "for i in range (5,10):\n",
    "  X, y = make_friedman1(\n",
    "    n_samples=100000, n_features = i,  noise=0.1, random_state=1)\n",
    "  X_train, X_test, y_train, y_test = train_test_split( X, y, test_size=0.1, random_state=42)\n",
    "  clf = IsolationForest(max_samples='auto', contamination = 0)\n",
    "  clf.fit(X_train)\n",
    "  y_pred_test = clf.predict(X_test)\n",
    "  print(i, pd.DataFrame(y_pred_test).value_counts())"
   ]
  },
  {
   "cell_type": "code",
   "execution_count": null,
   "metadata": {
    "id": "WQOZRpSuQlb9"
   },
   "outputs": [],
   "source": [
    "# Doesn't look like it!"
   ]
  }
 ],
 "metadata": {
  "colab": {
   "include_colab_link": true,
   "name": "FriedmanIsoForest.ipynb",
   "provenance": []
  },
  "kernelspec": {
   "display_name": "Python 3",
   "language": "python",
   "name": "python3"
  },
  "language_info": {
   "codemirror_mode": {
    "name": "ipython",
    "version": 3
   },
   "file_extension": ".py",
   "mimetype": "text/x-python",
   "name": "python",
   "nbconvert_exporter": "python",
   "pygments_lexer": "ipython3",
   "version": "3.8.5"
  }
 },
 "nbformat": 4,
 "nbformat_minor": 4
}
