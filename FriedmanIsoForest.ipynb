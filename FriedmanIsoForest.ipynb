{
 "cells": [
  {
   "cell_type": "markdown",
   "metadata": {
    "colab_type": "text",
    "id": "view-in-github"
   },
   "source": [
    "<a href=\"https://colab.research.google.com/github/angelotc/FriedmanIsolationForest/blob/main/FriedmanIsoForest.ipynb\" target=\"_parent\"><img src=\"https://colab.research.google.com/assets/colab-badge.svg\" alt=\"Open In Colab\"/></a>"
   ]
  },
  {
   "cell_type": "code",
   "execution_count": 1,
   "metadata": {
    "id": "meQr5PXyHv-1"
   },
   "outputs": [],
   "source": [
    "from sklearn.datasets import make_friedman1\n",
    "from sklearn.ensemble import IsolationForest\n",
    "from sklearn.model_selection import train_test_split\n",
    "import pandas as pd\n",
    "from sklearn import model_selection \n",
    "import numpy as np\n",
    "import numpy.random as random\n",
    "import matplotlib.pyplot as plt\n",
    "from sklearn.metrics import make_scorer\n",
    "from sklearn.metrics import recall_score"
   ]
  },
  {
   "cell_type": "code",
   "execution_count": 2,
   "metadata": {
    "id": "TfU1BnXbVojK"
   },
   "outputs": [],
   "source": [
    "# Helper functions\n",
    "\n",
    "def add_y_as_feature(X,y):\n",
    "    X['y1']=y\n",
    "    return X\n",
    "\n",
    "def contaminate_df(df1, df2, percentage):\n",
    "    '''\n",
    "    Assumes :\n",
    "    - df1 and df2 have the same number of samples.\n",
    "    - df1 is the dataset you will train on\n",
    "    - df2 is the dataset with outliers\n",
    "    Parameters:\n",
    "    df1 (df) - dataframe to contaminate\n",
    "    df2 (df) - dataframe that is contaminated (has noise)\n",
    "    percentage (float) - Percentage in the form of a float (0,1) . It will add remove this percentage of rows from df1, and add this percentage of the contaminated rows from df2 into df1. \n",
    "    For example, if float = 0.05, it will remove the last 5% of the rows in df1, and add the first 5% of the rows from df2 into df1 and return that modified dataframe as the first dataframe.\n",
    "    The second dataframe that it returns are the samples from df2 that were not added to df1.\n",
    "    \n",
    "    Returns:\n",
    "    three dataframes:\n",
    "    - modified df1 with contaminated samples\n",
    "    - the samples from df2 that were not added to df1 (we will save this to use as a training set)\n",
    "    - the actual outcomes of modified df1\n",
    "    '''\n",
    "    assert(len(df1) == len(df2)), \"y1 needs to be the same length as y2\"\n",
    "    return df1[:int(len(df2)*(1-percentage))].append(df2[:int(len(df2)*percentage)]), pd.DataFrame([1]*int(len(y1)* (1 - percentage)) + [-1]*int(len(y1)*percentage), columns = [\"is_outlier\"]), df2[int(len(df2)*percentage):]\n"
   ]
  },
  {
   "cell_type": "markdown",
   "metadata": {},
   "source": [
    "# 1. Create our datasets"
   ]
  },
  {
   "cell_type": "code",
   "execution_count": 3,
   "metadata": {
    "colab": {
     "base_uri": "https://localhost:8080/"
    },
    "id": "2qvzpeGsH3Xk",
    "outputId": "832c760c-cd39-49c7-d397-8cfec3b08be3"
   },
   "outputs": [],
   "source": [
    "# Create synthetic dataset using make_friedman1. N = 100k\n",
    "\n",
    "X1, y1 = make_friedman1(\n",
    "    n_samples=10000, n_features = 5 , random_state=1)\n",
    "\n",
    "\n",
    "# Create another synthetic dataset with noise.\n",
    "X2, y2 = make_friedman1(\n",
    "    n_samples=10000, n_features = 5, random_state=1, noise=20)\n",
    "\n",
    "y2 += 30\n",
    "\n",
    "x_cols = [\"x1\", \"x2\", \"x3\", \"x4\", \"x5\"]"
   ]
  },
  {
   "cell_type": "code",
   "execution_count": 4,
   "metadata": {},
   "outputs": [],
   "source": [
    "# Convert from numpy arrays to pandas dataframes\n",
    "X1 = pd.DataFrame(X1, columns = [\"x1\", \"x2\", \"x3\", \"x4\", \"x5\"])\n",
    "y1 = pd.DataFrame(y1, columns = [\"y1\"])\n",
    "X2 = pd.DataFrame(X2, columns = [\"x1\", \"x2\", \"x3\", \"x4\", \"x5\"])\n",
    "y2 = pd.DataFrame(y2, columns = [\"y1\"])"
   ]
  },
  {
   "cell_type": "code",
   "execution_count": 5,
   "metadata": {
    "colab": {
     "base_uri": "https://localhost:8080/",
     "height": 279
    },
    "id": "1cjeq8FCQ09E",
    "outputId": "23eb7eef-0e9d-43bd-8f11-d0757c6d49e5"
   },
   "outputs": [
    {
     "data": {
      "image/png": "[encoded data removed]",
      "text/plain": [
       "<Figure size 432x288 with 1 Axes>"
      ]
     },
     "metadata": {
      "needs_background": "light"
     },
     "output_type": "display_data"
    }
   ],
   "source": [
    "from matplotlib import pyplot as plt\n",
    "# n_bins = len(X)//100\n",
    "# We can set the number of bins with the `bins` kwarg\n",
    "\n",
    "plt.xlabel('y')\n",
    "plt.ylabel('Probability')\n",
    "\n",
    "# bins = compute_histogram_bins(y1, 1.0)\n",
    "plt.hist(y1, bins='auto', alpha=0.8, density = True, label='y1')\n",
    "plt.hist(y2, bins='auto', alpha=0.5, density = True, label='y2')\n",
    "plt.legend(loc='upper right')\n",
    "plt.show()\n"
   ]
  },
  {
   "cell_type": "code",
   "execution_count": 6,
   "metadata": {},
   "outputs": [
    {
     "data": {
      "text/plain": [
       "(         x1        x2        x3        x4        x5         y1\n",
       " 0  0.417022  0.720324  0.000114  0.302333  0.146756  16.852205\n",
       " 1  0.092339  0.186260  0.345561  0.396767  0.538817   7.678848\n",
       " 2  0.419195  0.685220  0.204452  0.878117  0.027388  18.513197\n",
       " 3  0.670468  0.417305  0.558690  0.140387  0.198101  10.164178\n",
       " 4  0.800745  0.968262  0.313424  0.692323  0.876389  18.487972,\n",
       "          x1        x2        x3        x4        x5         y1\n",
       " 0  0.417022  0.720324  0.000114  0.302333  0.146756   8.850894\n",
       " 1  0.092339  0.186260  0.345561  0.396767  0.538817  25.843459\n",
       " 2  0.419195  0.685220  0.204452  0.878117  0.027388  28.970348\n",
       " 3  0.670468  0.417305  0.558690  0.140387  0.198101  -5.169944\n",
       " 4  0.800745  0.968262  0.313424  0.692323  0.876389  34.101910)"
      ]
     },
     "execution_count": 6,
     "metadata": {},
     "output_type": "execute_result"
    }
   ],
   "source": [
    "# Since Isoforest is an unsupervised learning problem, we will need to add the y variable as a feature.\n",
    "\n",
    "df1 = add_y_as_feature(X1,y1)\n",
    "df2 = add_y_as_feature(X2,y2)\n",
    "df1.head(), df2.head()"
   ]
  },
  {
   "cell_type": "markdown",
   "metadata": {},
   "source": [
    "# 2. To train the model, we need to consider this as a supervised problem\n"
   ]
  },
  {
   "cell_type": "code",
   "execution_count": 21,
   "metadata": {},
   "outputs": [],
   "source": [
    "modified_df1,modified_df1_y, test_df2  = contaminate_df(df1, df2, 0.05)"
   ]
  },
  {
   "cell_type": "code",
   "execution_count": 30,
   "metadata": {},
   "outputs": [
    {
     "data": {
      "image/png": "[encoded data removed]",
      "text/plain": [
       "<Figure size 432x288 with 1 Axes>"
      ]
     },
     "metadata": {
      "needs_background": "light"
     },
     "output_type": "display_data"
    },
    {
     "name": "stdout",
     "output_type": "stream",
     "text": [
      " 1    9500\n",
      "-1     500\n",
      "Name: is_outlier, dtype: int64\n"
     ]
    },
    {
     "data": {
      "image/png": "[encoded data removed]",
      "text/plain": [
       "<Figure size 432x288 with 1 Axes>"
      ]
     },
     "metadata": {
      "needs_background": "light"
     },
     "output_type": "display_data"
    }
   ],
   "source": [
    "plt.xlabel('y-values of modified_df1 (contaminated df)')\n",
    "plt.ylabel('Probability')\n",
    "plt.hist(modified_df1['y1'], bins='auto', alpha=0.8, density = True, label='y1')\n",
    "plt.show()\n",
    "print(modified_df1_y[\"is_outlier\"].value_counts())\n",
    "plt.hist(test_df2['y1'], bins='auto', alpha=0.8, density = True, label='y1')\n",
    "plt.show()\n"
   ]
  },
  {
   "cell_type": "code",
   "execution_count": 20,
   "metadata": {},
   "outputs": [
    {
     "data": {
      "text/html": [
       "<div>\n",
       "<style scoped>\n",
       "    .dataframe tbody tr th:only-of-type {\n",
       "        vertical-align: middle;\n",
       "    }\n",
       "\n",
       "    .dataframe tbody tr th {\n",
       "        vertical-align: top;\n",
       "    }\n",
       "\n",
       "    .dataframe thead th {\n",
       "        text-align: right;\n",
       "    }\n",
       "</style>\n",
       "<table border=\"1\" class=\"dataframe\">\n",
       "  <thead>\n",
       "    <tr style=\"text-align: right;\">\n",
       "      <th></th>\n",
       "      <th>x1</th>\n",
       "      <th>x2</th>\n",
       "      <th>x3</th>\n",
       "      <th>x4</th>\n",
       "      <th>x5</th>\n",
       "      <th>y1</th>\n",
       "    </tr>\n",
       "  </thead>\n",
       "  <tbody>\n",
       "    <tr>\n",
       "      <th>0</th>\n",
       "      <td>0.417022</td>\n",
       "      <td>0.720324</td>\n",
       "      <td>0.000114</td>\n",
       "      <td>0.302333</td>\n",
       "      <td>0.146756</td>\n",
       "      <td>16.852205</td>\n",
       "    </tr>\n",
       "    <tr>\n",
       "      <th>1</th>\n",
       "      <td>0.092339</td>\n",
       "      <td>0.186260</td>\n",
       "      <td>0.345561</td>\n",
       "      <td>0.396767</td>\n",
       "      <td>0.538817</td>\n",
       "      <td>7.678848</td>\n",
       "    </tr>\n",
       "    <tr>\n",
       "      <th>2</th>\n",
       "      <td>0.419195</td>\n",
       "      <td>0.685220</td>\n",
       "      <td>0.204452</td>\n",
       "      <td>0.878117</td>\n",
       "      <td>0.027388</td>\n",
       "      <td>18.513197</td>\n",
       "    </tr>\n",
       "    <tr>\n",
       "      <th>3</th>\n",
       "      <td>0.670468</td>\n",
       "      <td>0.417305</td>\n",
       "      <td>0.558690</td>\n",
       "      <td>0.140387</td>\n",
       "      <td>0.198101</td>\n",
       "      <td>10.164178</td>\n",
       "    </tr>\n",
       "    <tr>\n",
       "      <th>4</th>\n",
       "      <td>0.800745</td>\n",
       "      <td>0.968262</td>\n",
       "      <td>0.313424</td>\n",
       "      <td>0.692323</td>\n",
       "      <td>0.876389</td>\n",
       "      <td>18.487972</td>\n",
       "    </tr>\n",
       "  </tbody>\n",
       "</table>\n",
       "</div>"
      ],
      "text/plain": [
       "         x1        x2        x3        x4        x5         y1\n",
       "0  0.417022  0.720324  0.000114  0.302333  0.146756  16.852205\n",
       "1  0.092339  0.186260  0.345561  0.396767  0.538817   7.678848\n",
       "2  0.419195  0.685220  0.204452  0.878117  0.027388  18.513197\n",
       "3  0.670468  0.417305  0.558690  0.140387  0.198101  10.164178\n",
       "4  0.800745  0.968262  0.313424  0.692323  0.876389  18.487972"
      ]
     },
     "execution_count": 20,
     "metadata": {},
     "output_type": "execute_result"
    }
   ],
   "source": [
    "modified_df1.head()"
   ]
  },
  {
   "cell_type": "code",
   "execution_count": 50,
   "metadata": {},
   "outputs": [],
   "source": [
    "X_train_modified, X_test_modified, y_train_modified, y_test_modified = train_test_split(modified_df1, modified_df1_y, test_size=0.2, random_state=11)"
   ]
  },
  {
   "cell_type": "code",
   "execution_count": null,
   "metadata": {},
   "outputs": [],
   "source": [
    "scoring = {'AUC': 'roc_auc', 'Recall': make_scorer(recall_score, pos_label=-1)}\n",
    "\n",
    "clf = IsolationForest(random_state=47, contamination = 0.05)\n",
    "\n",
    "param_grid = {'n_estimators': list(range(100, 200, 5)), \n",
    "              'max_samples': list(range(100, 500, 5)),  \n",
    "              'max_features': list(range(1,6)), \n",
    "              'bootstrap': [True, False], \n",
    "              'n_jobs': [-1]}\n",
    "\n",
    "\n",
    "grid_dt_estimator = model_selection.GridSearchCV(clf, \n",
    "                                                 param_grid,\n",
    "                                                 scoring=scoring,\n",
    "                                                 refit='Recall')\n",
    "\n",
    "grid_dt_estimator.fit(X_train_modified, y_train_modified)"
   ]
  },
  {
   "cell_type": "code",
   "execution_count": null,
   "metadata": {},
   "outputs": [],
   "source": [
    "# Output best parameters\n",
    "print(clf.best_params_)"
   ]
  },
  {
   "cell_type": "code",
   "execution_count": null,
   "metadata": {},
   "outputs": [],
   "source": []
  }
 ],
 "metadata": {
  "colab": {
   "include_colab_link": true,
   "name": "FriedmanIsoForest.ipynb",
   "provenance": []
  },
  "kernelspec": {
   "display_name": "Python 3",
   "language": "python",
   "name": "python3"
  },
  "language_info": {
   "codemirror_mode": {
    "name": "ipython",
    "version": 3
   },
   "file_extension": ".py",
   "mimetype": "text/x-python",
   "name": "python",
   "nbconvert_exporter": "python",
   "pygments_lexer": "ipython3",
   "version": "3.7.9"
  }
 },
 "nbformat": 4,
 "nbformat_minor": 4
}
